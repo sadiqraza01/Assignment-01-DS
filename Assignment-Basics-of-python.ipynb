{
 "cells": [
  {
   "cell_type": "code",
   "execution_count": 3,
   "id": "8bc5199e-982c-4b5a-95e2-63e1bc4e29b0",
   "metadata": {},
   "outputs": [
    {
     "name": "stdin",
     "output_type": "stream",
     "text": [
      "Enter a number 5\n"
     ]
    },
    {
     "name": "stdout",
     "output_type": "stream",
     "text": [
      "5 is a prime number\n"
     ]
    }
   ],
   "source": [
    "#Exercise 1: Prime Numbers\n",
    "\n",
    "from sympy import isprime\n",
    "\n",
    "number=int(input(\"Enter a number\"))\n",
    "\n",
    "if isprime(number):\n",
    "    print(f\"{number} is a prime number\")\n",
    "else:\n",
    "    print(f\"{number} is not a prime number\")\n",
    "    "
   ]
  },
  {
   "cell_type": "code",
   "execution_count": 11,
   "id": "cfff04ef-9974-4439-aa12-197d2b71869b",
   "metadata": {},
   "outputs": [
    {
     "name": "stdin",
     "output_type": "stream",
     "text": [
      "what is the product of 3 and 7?. 21\n"
     ]
    },
    {
     "name": "stdout",
     "output_type": "stream",
     "text": [
      "correct.well done 21 \n"
     ]
    }
   ],
   "source": [
    "#Exercise 2: Product of Random Numbers\n",
    "\n",
    "import random\n",
    "\n",
    "#generating random numnbers from 1 to 10\n",
    "num1=random.randint(1,10)\n",
    "num2=random.randint(1,10)\n",
    "\n",
    "#asking unput from the user\n",
    "user_input=int(input(f\"what is the product of {num1} and {num2}?.\"))\n",
    "\n",
    "correct_product=num1*num2   #multiplying two numbers \n",
    "\n",
    "if user_input == correct_product: #checking condition\n",
    "    print(f\"correct.well done {correct_product} \")\n",
    "else:\n",
    "    print(f\"no your answer is not correct.right answer is. {correct_product}\")"
   ]
  },
  {
   "cell_type": "code",
   "execution_count": 12,
   "id": "aaf06fca-4026-47eb-8ed7-aec3c5ee555a",
   "metadata": {},
   "outputs": [
    {
     "name": "stdout",
     "output_type": "stream",
     "text": [
      "the square of: 10000\n",
      "the square of: 10404\n",
      "the square of: 10816\n",
      "the square of: 11236\n",
      "the square of: 11664\n",
      "the square of: 12100\n",
      "the square of: 12544\n",
      "the square of: 12996\n",
      "the square of: 13456\n",
      "the square of: 13924\n",
      "the square of: 14400\n",
      "the square of: 14884\n",
      "the square of: 15376\n",
      "the square of: 15876\n",
      "the square of: 16384\n",
      "the square of: 16900\n",
      "the square of: 17424\n",
      "the square of: 17956\n",
      "the square of: 18496\n",
      "the square of: 19044\n",
      "the square of: 19600\n",
      "the square of: 20164\n",
      "the square of: 20736\n",
      "the square of: 21316\n",
      "the square of: 21904\n",
      "the square of: 22500\n",
      "the square of: 23104\n",
      "the square of: 23716\n",
      "the square of: 24336\n",
      "the square of: 24964\n",
      "the square of: 25600\n",
      "the square of: 26244\n",
      "the square of: 26896\n",
      "the square of: 27556\n",
      "the square of: 28224\n",
      "the square of: 28900\n",
      "the square of: 29584\n",
      "the square of: 30276\n",
      "the square of: 30976\n",
      "the square of: 31684\n",
      "the square of: 32400\n",
      "the square of: 33124\n",
      "the square of: 33856\n",
      "the square of: 34596\n",
      "the square of: 35344\n",
      "the square of: 36100\n",
      "the square of: 36864\n",
      "the square of: 37636\n",
      "the square of: 38416\n",
      "the square of: 39204\n",
      "the square of: 40000\n"
     ]
    }
   ],
   "source": [
    "#Exercise 3: Squares of Even/Odd Numbers\n",
    "\n",
    "#We calculate the squares of even numbers from 100 to 200.\n",
    "\n",
    "for number in range(100, 201):  # Range from 100 to 200\n",
    "    if number % 2 == 0:  # Check if number is even\n",
    "        print(\"the square of:\",number ** 2)  # Print the square of the even number"
   ]
  },
  {
   "cell_type": "code",
   "execution_count": 13,
   "id": "0ba89470-b1cb-4a3a-b4db-049be7cc854e",
   "metadata": {},
   "outputs": [
    {
     "name": "stdout",
     "output_type": "stream",
     "text": [
      "'this': 2\n",
      "'is': 1\n",
      "'a': 1\n",
      "'sample': 1\n",
      "'text': 2\n",
      "'will': 1\n",
      "'be': 1\n",
      "'used': 1\n",
      "'to': 1\n",
      "'demonstrate': 1\n",
      "'the': 1\n",
      "'word': 1\n",
      "'counter': 1\n"
     ]
    }
   ],
   "source": [
    "#Sample input text\n",
    "\n",
    "input_text = \"This is a sample text. This text will be used to demonstrate the word counter.\"\n",
    "\n",
    "# Split the text into words and count occurrences\n",
    "word_count = {}\n",
    "\n",
    "for word in input_text.split():\n",
    "    word = word.strip('.,!?\";:')  # Removing punctuation\n",
    "    word = word.lower()  # Convert to lowercase\n",
    "    word_count[word] = word_count.get(word, 0) + 1  # Count the word\n",
    "\n",
    "# Printing the word counts\n",
    "for word, count in word_count.items():\n",
    "    print(f\"'{word}': {count}\")"
   ]
  },
  {
   "cell_type": "code",
   "execution_count": 14,
   "id": "1331e433-818b-409d-aa16-1c5d1037311f",
   "metadata": {},
   "outputs": [
    {
     "name": "stdout",
     "output_type": "stream",
     "text": [
      "True\n",
      "True\n",
      "False\n"
     ]
    }
   ],
   "source": [
    "#Exercise 5: Check for Palindrome\n",
    "\n",
    "def is_palindrome(input_string):\n",
    "    \n",
    "    # Clean the string: remove spaces and convert to lowercase\n",
    "    cleaned_string = ''.join(char.lower() for char in input_string if char.isalnum())\n",
    "    \n",
    "    # Check if the cleaned string is the same forwards and backwards\n",
    "    return cleaned_string == cleaned_string[::-1]\n",
    "\n",
    "# Example usage\n",
    "print(is_palindrome(\"racecar\"))  # Expected Output: True\n",
    "print(is_palindrome(\"A man, a plan, a canal, Panama!\"))  # Expected Output: True\n",
    "print(is_palindrome(\"Hello\"))  # Expected Output: False"
   ]
  },
  {
   "cell_type": "code",
   "execution_count": null,
   "id": "70f4edb8-b483-4f07-908d-ffe88f791ca7",
   "metadata": {},
   "outputs": [],
   "source": []
  }
 ],
 "metadata": {
  "kernelspec": {
   "display_name": "Python 3 (ipykernel)",
   "language": "python",
   "name": "python3"
  },
  "language_info": {
   "codemirror_mode": {
    "name": "ipython",
    "version": 3
   },
   "file_extension": ".py",
   "mimetype": "text/x-python",
   "name": "python",
   "nbconvert_exporter": "python",
   "pygments_lexer": "ipython3",
   "version": "3.11.7"
  }
 },
 "nbformat": 4,
 "nbformat_minor": 5
}
